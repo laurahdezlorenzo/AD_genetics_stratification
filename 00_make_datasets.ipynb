{
 "cells": [
  {
   "cell_type": "code",
   "execution_count": null,
   "id": "2db39ba9",
   "metadata": {},
   "outputs": [],
   "source": [
    "import pandas as pd\n",
    "import bio_networks as bionets\n",
    "import obtain_edges_scores as scores"
   ]
  },
  {
   "cell_type": "markdown",
   "id": "7e842aa6",
   "metadata": {},
   "source": [
    "### Selection of genetic variants\n",
    "\n",
    "Source: DisGeNET\n",
    "\n",
    "Diseases:\n",
    "* C0524851 Neurodegenerative Disorder\n",
    "* C0262424 CNS degeneration\n",
    "* C0270715 Degenerative disease of the central nervous system\n",
    "* C0002395 Alzheimer’s Disease\n",
    "* C0338451 Frontotemporal dementia\n",
    "* C0030567 Parkinson’s Disease\n",
    "* C0393570 Corticobasal degeneration\n",
    "* C0011269 Vascular dementia\n",
    "* C0282513 Primary progressive aphasia\n",
    "* C0752347 Lewy body dementia"
   ]
  },
  {
   "cell_type": "code",
   "execution_count": null,
   "id": "56b1d09c",
   "metadata": {},
   "outputs": [],
   "source": [
    "vdas = pd.read_csv('data/VDAs/VDAs.tsv', sep='\\t')"
   ]
  },
  {
   "cell_type": "code",
   "execution_count": null,
   "id": "eb902816",
   "metadata": {
    "scrolled": true
   },
   "outputs": [],
   "source": [
    "vars_vdas  = set(vdas['Variant'].values.tolist())\n",
    "genes_set = set(vdas['Gene'].values.tolist())\n",
    "genes_vdas = []\n",
    "for gene_string in genes_set:\n",
    "    gene_string = str(gene_string)\n",
    "    if gene_string != 'nan':\n",
    "        if ';' in gene_string: \n",
    "            genes_string = gene_string.split(';')\n",
    "            for g in genes_string:\n",
    "                genes_vdas.append(g)\n",
    "        else:\n",
    "            genes_vdas.append(gene_string)\n",
    "\n",
    "genes_vdas = set(genes_vdas)\n",
    "        \n",
    "n_vars  = len(vars_vdas)\n",
    "n_genes = len(genes_vdas)\n",
    "\n",
    "print('Number variants:', n_vars)\n",
    "print('Number genes:', n_genes)"
   ]
  },
  {
   "cell_type": "code",
   "execution_count": null,
   "id": "2b507790",
   "metadata": {},
   "outputs": [],
   "source": [
    "exonic_vars = ['downstream gene variant', 'frameshift variant', 'missense variant',\n",
    "               'splice acceptor variant', 'splice donor variant',\n",
    "               'splice region variant', 'start lost', 'stop gained', 'stop lost',\n",
    "               'synonymous variant']\n",
    "\n",
    "vdas_exonic = vdas.loc[vdas['Consequence'].isin(exonic_vars)]\n",
    "\n",
    "vars_vdas_exonic = set(vdas_exonic['Variant'].values.tolist())\n",
    "genes_set_exonic = set(vdas_exonic['Gene'].values.tolist())\n",
    "genes_vdas_exonic = []\n",
    "\n",
    "for gene_string in genes_set_exonic:\n",
    "    gene_string = str(gene_string)\n",
    "    if gene_string != 'nan':\n",
    "        if ';' in gene_string: \n",
    "            genes_string = gene_string.split(';')\n",
    "            for g in genes_string:\n",
    "                genes_vdas_exonic.append(g)\n",
    "        else:\n",
    "            genes_vdas_exonic.append(gene_string)\n",
    "\n",
    "genes_vdas_exonic = set(genes_vdas_exonic)\n",
    "\n",
    "n_vars_exonic  = len(vars_vdas_exonic)\n",
    "n_genes_exonic = len(genes_vdas_exonic)\n",
    "\n",
    "print('Number variants:', n_vars_exonic)\n",
    "print('Number genes:', n_genes_exonic)"
   ]
  },
  {
   "cell_type": "code",
   "execution_count": null,
   "id": "5503c527",
   "metadata": {},
   "outputs": [],
   "source": [
    "with open(f'data/associated_variants_{v}.txt', 'w') as output:\n",
    "    for line in vars_vdas:\n",
    "        output.write(f\"{line}\\n\")\n",
    "    \n",
    "with open(f'data/associated_variants_exonic_{v}.txt', 'w') as output:\n",
    "    for line in vars_vdas_exonic:\n",
    "        output.write(f\"{line}\\n\")"
   ]
  },
  {
   "cell_type": "markdown",
   "id": "308a1577",
   "metadata": {},
   "source": [
    "### Obtain variants in ADNI cohort"
   ]
  },
  {
   "cell_type": "markdown",
   "id": "db780f61",
   "metadata": {},
   "source": [
    "```bash extract_variants.sh```"
   ]
  },
  {
   "cell_type": "code",
   "execution_count": null,
   "id": "785a93c8",
   "metadata": {},
   "outputs": [],
   "source": [
    "col_file = open(f'data/selected_variants_{v}/columns.txt', 'r')\n",
    "col_names = col_file.read().split('\\n')\n",
    "col_file.close()\n",
    "col_names = [col.upper() for col in col_names]\n",
    "\n",
    "dfs_chr = []\n",
    "for i in range(1, 24):\n",
    "    tmp_chr = pd.read_csv(f'data/selected_variants_{v}/chr{i}.tsv', sep=' ', names=col_names, index_col='ID')\n",
    "    tmp_chr = tmp_chr.drop(columns=['CHROM', 'POS', 'NONE'])\n",
    "    dfs_chr.append(tmp_chr)\n",
    "    \n",
    "genotypes_data = pd.concat(dfs_chr)\n",
    "print(genotypes_data.shape[0])\n",
    "\n",
    "genotypes_data.index = [name if duplicated == False else name + '_1' for duplicated, name in zip(genotypes_data.index.duplicated(), genotypes_data.index)]\n",
    "print(genotypes_data.shape[0])"
   ]
  },
  {
   "cell_type": "code",
   "execution_count": null,
   "id": "3ec18eba",
   "metadata": {},
   "outputs": [],
   "source": [
    "genes_info = vdas.set_index('Variant') # information about variants such as gene\n",
    "genes_info = genes_info[~genes_info.index.duplicated(keep='first')]\n",
    "\n",
    "genotypes_genes = pd.concat([genotypes_data, genes_info['Gene']], axis=1, join='inner') # concat genotypes and info\n",
    "genotypes_genes = genotypes_genes.assign(Gene=genotypes_genes['Gene'].str.split(r';')).explode('Gene')\n",
    "\n",
    "genes_found = set(genotypes_genes['Gene'].values.tolist())\n",
    "\n",
    "n_vars_found  = genotypes_genes.shape[0]\n",
    "n_genes_found = len(genes_found)\n",
    "            \n",
    "print('Number variants:', n_vars_found) # salen + variantes que en ADNI al hacer el explode Gene\n",
    "print('Number genes:', n_genes_found)"
   ]
  },
  {
   "cell_type": "code",
   "execution_count": null,
   "id": "e3703f3d",
   "metadata": {},
   "outputs": [],
   "source": [
    "genes_info_exonic = vdas_exonic.set_index('Variant')\n",
    "genes_info_exonic = genes_info_exonic[~genes_info_exonic.index.duplicated(keep='first')]\n",
    "genotypes_genes_exonic = pd.concat([genotypes_data, genes_info_exonic['Gene']], axis=1, join='inner')\n",
    "\n",
    "genotypes_genes_exonic = genotypes_genes_exonic.assign(Gene=genotypes_genes_exonic['Gene'].str.split(r';')).explode('Gene')\n",
    "\n",
    "genes_found_exonic = set(genotypes_genes_exonic['Gene'].values.tolist())\n",
    "\n",
    "n_vars_found_exonic  = genotypes_genes_exonic.shape[0]\n",
    "n_genes_found_exonic = len(genes_found_exonic)\n",
    "            \n",
    "print('Number variants:', n_vars_found_exonic)\n",
    "print('Number genes:', n_genes_found_exonic)"
   ]
  },
  {
   "cell_type": "markdown",
   "id": "91a04823",
   "metadata": {},
   "source": [
    "### Iteration with the PPI network"
   ]
  },
  {
   "cell_type": "code",
   "execution_count": null,
   "id": "6fc0d7d9",
   "metadata": {},
   "outputs": [],
   "source": [
    "print('Exonic variants')\n",
    "ppi_found_exonic     = bionets.get_snap(genes_found_exonic, False)\n",
    "ppi_bcc_found_exonic = bionets.get_snap(genes_found_exonic, True)"
   ]
  },
  {
   "cell_type": "markdown",
   "id": "5dba1308",
   "metadata": {},
   "source": [
    "### Create PPI scores dataset"
   ]
  },
  {
   "cell_type": "code",
   "execution_count": null,
   "id": "44d28338",
   "metadata": {},
   "outputs": [],
   "source": [
    "ppi_net = ppi_found_exonic\n",
    "\n",
    "genotypes_genes.rename(columns={'Gene': 'SYMBOL'}, inplace=True)\n",
    "genotypes_genes.replace({'./.':0, '0/0':0}, inplace=True)\n",
    "genotypes_genes.replace({'0/1':1, '1/0':1, '1/1':2, '0/2':1, '2/0':1, '1/2':2, '2/1':2, '2/2':2}, inplace=True)\n",
    "genotypes_genes.to_csv(f'results/processed_variants_ADNI_WGS.csv')\n",
    "\n",
    "edges_scores_wgs = scores.obtain_edges_scores(ppi_net, genotypes_genes)\n",
    "edges_scores_wgs.to_csv(f'results/edges_scores.csv')\n",
    "print('Edges:', edges_scores_wgs.shape[0])"
   ]
  }
 ],
 "metadata": {
  "kernelspec": {
   "display_name": "Python 3 (ipykernel)",
   "language": "python",
   "name": "python3"
  },
  "language_info": {
   "codemirror_mode": {
    "name": "ipython",
    "version": 3
   },
   "file_extension": ".py",
   "mimetype": "text/x-python",
   "name": "python",
   "nbconvert_exporter": "python",
   "pygments_lexer": "ipython3",
   "version": "3.9.16"
  }
 },
 "nbformat": 4,
 "nbformat_minor": 5
}
