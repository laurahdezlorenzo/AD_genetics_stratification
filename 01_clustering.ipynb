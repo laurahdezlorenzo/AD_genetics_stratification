{
 "cells": [
  {
   "cell_type": "code",
   "execution_count": null,
   "id": "4a43e266",
   "metadata": {},
   "outputs": [],
   "source": [
    "# import snf\n",
    "import numpy as np\n",
    "import numpy as np\n",
    "import networkx as nx\n",
    "import pandas as pd\n",
    "import seaborn as sns\n",
    "import matplotlib.pyplot as plt\n",
    "from sklearn.preprocessing import StandardScaler\n",
    "from sklearn.cluster import spectral_clustering\n",
    "import snf"
   ]
  },
  {
   "cell_type": "markdown",
   "id": "997b5975",
   "metadata": {},
   "source": [
    "### Load data & preprocessing"
   ]
  },
  {
   "cell_type": "code",
   "execution_count": null,
   "id": "982a6473",
   "metadata": {},
   "outputs": [],
   "source": [
    "sns.set(style=\"white\", font='Arial', font_scale=1.)\n",
    "sns.set_palette('rainbow', 4)"
   ]
  },
  {
   "cell_type": "code",
   "execution_count": null,
   "id": "daff91a1",
   "metadata": {},
   "outputs": [],
   "source": [
    "infile = f'results/edges_scores.csv'"
   ]
  },
  {
   "cell_type": "code",
   "execution_count": null,
   "id": "9edefb13",
   "metadata": {},
   "outputs": [],
   "source": [
    "labels   = pd.read_csv('data/ADNI/ADNIMERGE_processed.csv', index_col='PTID')\n",
    "labels   = labels.loc[labels['PTETHCAT'] == 'Not Hisp/Latino']\n",
    "labels   = labels.loc[labels['PTRACCAT'] == 'White']\n",
    "\n",
    "data_dis = pd.read_csv(infile, index_col=0).T\n",
    "data_dis = pd.concat([labels[['DX', 'PTETHCAT', 'PTRACCAT']], data_dis], axis=1, join='inner')\n",
    "print(data_dis.shape)\n",
    "\n",
    "x = data_dis.dropna()\n",
    "true_labels = x['DX']\n",
    "x = x.drop(columns=['DX', 'PTETHCAT', 'PTRACCAT'])\n",
    "# x = x.dropna(axis=1)"
   ]
  },
  {
   "cell_type": "code",
   "execution_count": null,
   "id": "d77a3514",
   "metadata": {},
   "outputs": [],
   "source": [
    "scaler = StandardScaler()\n",
    "values = scaler.fit_transform(x)\n",
    "x_scal = pd.DataFrame(values, index=x.index, columns=x.columns)\n",
    "print('Input data:', x_scal.shape)"
   ]
  },
  {
   "cell_type": "code",
   "execution_count": null,
   "id": "ebd258c2",
   "metadata": {},
   "outputs": [],
   "source": [
    "true_labels.value_counts()"
   ]
  },
  {
   "cell_type": "markdown",
   "id": "c1ca5d99",
   "metadata": {},
   "source": [
    "### Similarity Network Fusion + Spectral Clustering"
   ]
  },
  {
   "cell_type": "code",
   "execution_count": null,
   "id": "f14bda5d",
   "metadata": {},
   "outputs": [],
   "source": [
    "gen = x_scal.values"
   ]
  },
  {
   "cell_type": "code",
   "execution_count": null,
   "id": "eeec2630",
   "metadata": {},
   "outputs": [],
   "source": [
    "si_scores = []; ch_scores = []; db_scores = []\n",
    "for k in range(2, 11):\n",
    "    \n",
    "    affinity_network = snf.make_affinity(gen, metric='sqeuclidean', K=70, mu=0.3)\n",
    "    labels = spectral_clustering(affinity_network, n_clusters=k)\n",
    "    \n",
    "    si = round(snf.metrics.silhouette_score(affinity_network, labels), 4)   \n",
    "    si_scores.append(si)\n",
    "    \n",
    "    print(k, si)\n",
    "\n",
    "plt.figure(figsize=(5, 4))\n",
    "sns.lineplot(x=range(2, 11), y=si_scores, markers=True, marker='o')\n",
    "plt.xticks(range(2, 11))\n",
    "plt.xlabel('Number of clusters')\n",
    "plt.ylabel('Silhouette Index score')\n",
    "# plt.tight_layout()\n",
    "# plt.savefig('figures/SI_scores.pdf', dpi=300)"
   ]
  },
  {
   "cell_type": "code",
   "execution_count": null,
   "id": "d758abf5",
   "metadata": {},
   "outputs": [],
   "source": [
    "affinity_networks = snf.make_affinity(gen, metric='sqeuclidean', K=70, mu=0.3) \n",
    "labels_best   = spectral_clustering(affinity_networks, n_clusters=2)\n",
    "labels_second = spectral_clustering(affinity_networks, n_clusters=3)"
   ]
  },
  {
   "cell_type": "code",
   "execution_count": null,
   "id": "ac807d17",
   "metadata": {},
   "outputs": [],
   "source": [
    "results = x.copy()\n",
    "results['cluster_2'] = labels_best\n",
    "results['cluster_3'] = labels_second\n",
    "\n",
    "print(results['cluster_2'].value_counts())\n",
    "print()\n",
    "print(results['cluster_3'].value_counts())\n",
    "\n",
    "results.to_csv('results/results_clustering.csv')"
   ]
  }
 ],
 "metadata": {
  "kernelspec": {
   "display_name": "Python 3 (ipykernel)",
   "language": "python",
   "name": "python3"
  },
  "language_info": {
   "codemirror_mode": {
    "name": "ipython",
    "version": 3
   },
   "file_extension": ".py",
   "mimetype": "text/x-python",
   "name": "python",
   "nbconvert_exporter": "python",
   "pygments_lexer": "ipython3",
   "version": "3.9.16"
  }
 },
 "nbformat": 4,
 "nbformat_minor": 5
}
