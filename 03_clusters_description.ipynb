{
 "cells": [
  {
   "cell_type": "code",
   "execution_count": null,
   "metadata": {},
   "outputs": [],
   "source": [
    "import pandas as pd\n",
    "import seaborn as sns\n",
    "from matplotlib import pyplot as plt\n",
    "import networkx as nx\n",
    "\n",
    "import utils_description as utils\n",
    "import networkx.algorithms.community as nx_comm\n",
    "import numpy as np"
   ]
  },
  {
   "cell_type": "code",
   "execution_count": null,
   "metadata": {},
   "outputs": [],
   "source": [
    "sns.set(style=\"whitegrid\", font='Arial', font_scale=1.)\n",
    "meanprops = {'markeredgecolor': 'black',  'markerfacecolor': 'white', 'markersize': 8}"
   ]
  },
  {
   "cell_type": "markdown",
   "metadata": {},
   "source": [
    "### Load results data"
   ]
  },
  {
   "cell_type": "code",
   "execution_count": null,
   "metadata": {},
   "outputs": [],
   "source": [
    "infile_results  = 'results/results_clustering.csv'\n",
    "infile_metadata = 'data/ADNI/ADNIMERGE_processed.csv'"
   ]
  },
  {
   "cell_type": "code",
   "execution_count": null,
   "metadata": {},
   "outputs": [],
   "source": [
    "results  = pd.read_csv(infile_results, index_col=0)\n",
    "metadata = pd.read_csv(infile_metadata, index_col=0)\n",
    "metadata['DX_bl'].replace({'AD':'Dementia', 'EMCI':'MCI', 'LMCI':'MCI'}, inplace=True)\n",
    "\n",
    "print('Diagnosis and clusters:')\n",
    "print(pd.crosstab(metadata['DX_bl'], results['cluster_3']))\n",
    "print()\n",
    "\n",
    "results = results.loc[(metadata['DX_bl'] == 'Dementia') | (metadata['DX_bl'] == 'MCI')]"
   ]
  },
  {
   "cell_type": "code",
   "execution_count": null,
   "metadata": {},
   "outputs": [],
   "source": [
    "age_diagnosis = metadata[['AGE', 'Month', 'Month_Dementia', 'Month_MCI', 'DX_bl', 'DX', 'PTRACCAT']]\n",
    "age_diagnosis['Year']          = age_diagnosis['Month']/12\n",
    "age_diagnosis['Year_Dementia'] = age_diagnosis['Month_Dementia']/12\n",
    "age_diagnosis['Year_MCI']      = age_diagnosis['Month_MCI']/12\n",
    "age_diagnosis['Age_last']      = age_diagnosis['AGE'] + age_diagnosis['Year']\n",
    "age_diagnosis['Age_Dementia']  = age_diagnosis['AGE'] + age_diagnosis['Year_Dementia']\n",
    "age_diagnosis['Age_MCI']       = age_diagnosis['AGE'] + age_diagnosis['Year_MCI']\n",
    "age_diagnosis['DXCHANGE']      = age_diagnosis['DX_bl'] + ' to ' + age_diagnosis['DX']\n",
    "age_diagnosis_clust = pd.concat([age_diagnosis, results['cluster_3']], axis=1, join='inner')"
   ]
  },
  {
   "cell_type": "markdown",
   "metadata": {},
   "source": [
    "### Descriptive of clusters"
   ]
  },
  {
   "cell_type": "code",
   "execution_count": null,
   "metadata": {
    "scrolled": false
   },
   "outputs": [],
   "source": [
    "#### Sociodemo, clinical, biomarkers and cognitive data\n",
    "sociodemo, cognitive, biomarker = utils.load_adnimerge_data(results, 'cluster_3')\n",
    "\n",
    "for diag in ['MCI', 'Dementia']:\n",
    "    \n",
    "    sociodemo_tmp = sociodemo.loc[sociodemo['DX_bl'] == diag]\n",
    "    biomarker_tmp = biomarker.loc[sociodemo['DX_bl'] == diag]\n",
    "    cognitive_tmp = cognitive.loc[sociodemo['DX_bl'] == diag]\n",
    "    age_diagnosis_clust_tmp = age_diagnosis_clust.loc[sociodemo['DX_bl'] == diag]\n",
    "\n",
    "    stats1 = utils.stats_numerical(sociodemo_tmp[['PTEDUCAT', 'AGE', 'cluster_3']], 'cluster_3')\n",
    "    stats2 = utils.stats_numerical(age_diagnosis_clust_tmp[['Age_Dementia', 'Age_MCI', 'cluster_3']], 'cluster_3')\n",
    "    stats3 = utils.stats_categorical(sociodemo_tmp[['PTGENDER', 'APOE4', 'cluster_3']], 'cluster_3')\n",
    "    stats4 = utils.stats_numerical(biomarker_tmp, 'cluster_3')\n",
    "    stats5 = utils.stats_numerical(cognitive_tmp, 'cluster_3')\n",
    "\n",
    "    print(stats1[['cluster1', 'cluster2', 'cluster3', 'F', 'pvalue']].to_latex(), '\\n')\n",
    "    print(stats2[['cluster1', 'cluster2', 'cluster3', 'F', 'pvalue']].to_latex(), '\\n')\n",
    "    print(stats3[['cluster1', 'cluster2', 'cluster3', 'chstat', 'pvalue']].to_latex())\n",
    "    print(stats4[['cluster1', 'cluster2', 'cluster3', 'F', 'pvalue']].to_latex(), '\\n')\n",
    "    print(stats5[['cluster1', 'cluster2', 'cluster3', 'F', 'pvalue']].to_latex(), '\\n')"
   ]
  },
  {
   "cell_type": "code",
   "execution_count": null,
   "metadata": {},
   "outputs": [],
   "source": [
    "data = pd.concat([biomarker, metadata[['DX_bl', 'DX', 'AGE']]], axis=1, join='inner')\n",
    "data['cluster_3'] = data['cluster_3'].replace({0:'Cluster 1', 1:'Cluster 2', 2:'Cluster 3'})"
   ]
  },
  {
   "cell_type": "code",
   "execution_count": null,
   "metadata": {
    "scrolled": true
   },
   "outputs": [],
   "source": [
    "o = ['Cluster 1', 'Cluster 2', 'Cluster 3']\n",
    "h = ['MCI', 'Dementia']\n",
    "\n",
    "hue = 'DX_bl'\n",
    "sns.set_palette('magma_r', 3)\n",
    "\n",
    "fig, ax = plt.subplots(4, 3, figsize=(10, 10))\n",
    "\n",
    "sns.boxplot(data=data, y='ABETA_bl', x='cluster_3', hue=hue,\n",
    "            hue_order=h, order=o, ax=ax[0][0], showmeans=True, meanprops=meanprops)\n",
    "sns.boxplot(data=data, y='TAU_bl', x='cluster_3', hue=hue,\n",
    "            hue_order=h, order=o, ax=ax[0][1], showmeans=True, meanprops=meanprops)\n",
    "sns.boxplot(data=data, y='PTAU_bl', x='cluster_3', hue=hue,\n",
    "            hue_order=h, order=o, ax=ax[0][2], showmeans=True, meanprops=meanprops)\n",
    "\n",
    "sns.boxplot(data=data, y='AV45_bl', x='cluster_3', hue=hue,\n",
    "            hue_order=h, order=o, ax=ax[1][0], showmeans=True, meanprops=meanprops)\n",
    "sns.boxplot(data=data, y='FDG_bl', x='cluster_3', hue=hue,\n",
    "            hue_order=h, order=o, ax=ax[1][1], showmeans=True, meanprops=meanprops)\n",
    "sns.boxplot(data=data, y='WholeBrain_bl', x='cluster_3', hue=hue,\n",
    "            hue_order=h, order=o, ax=ax[1][2], showmeans=True, meanprops=meanprops)\n",
    "\n",
    "sns.boxplot(data=data, y='Ventricles_bl', x='cluster_3', hue=hue,\n",
    "            hue_order=h, order=o, ax=ax[2][0], showmeans=True, meanprops=meanprops)\n",
    "sns.boxplot(data=data, y='MidTemp_bl', x='cluster_3', hue=hue,\n",
    "            hue_order=h, order=o, ax=ax[2][1], showmeans=True, meanprops=meanprops)\n",
    "sns.boxplot(data=data, y='Hippocampus_bl', x='cluster_3', hue=hue,\n",
    "            hue_order=h, order=o, ax=ax[2][2], showmeans=True, meanprops=meanprops)\n",
    "\n",
    "sns.boxplot(data=data, y='Fusiform_bl', x='cluster_3', hue=hue,\n",
    "            hue_order=h, order=o, ax=ax[3][0], showmeans=True, meanprops=meanprops)\n",
    "sns.boxplot(data=data, y='Entorhinal_bl', x='cluster_3', hue=hue,\n",
    "            hue_order=h, order=o, ax=ax[3][1], showmeans=True, meanprops=meanprops)\n",
    "\n",
    "\n",
    "for i in[0, 1, 2, 3]:\n",
    "    for j in [0, 1, 2]:\n",
    "        if i == 3 and j == 2:\n",
    "            fig.delaxes(ax[3][2])\n",
    "        else:\n",
    "            ax[i][j].get_legend().remove()\n",
    "            ax[i][j].set_xlabel('')\n",
    "\n",
    "\n",
    "\n",
    "handles, labels = ax[0][0].get_legend_handles_labels()\n",
    "leg = fig.legend(handles, labels, bbox_to_anchor=(0.9, 0.2), ncol=1, title='Baseline diagnosis:\\n')\n",
    "leg._legend_box.align = \"left\"\n",
    "\n",
    "fig.tight_layout()\n",
    "plt.savefig('figures/boxplots_biomarkers.pdf', dpi=500)\n",
    "# plt.show()\n"
   ]
  },
  {
   "cell_type": "markdown",
   "metadata": {},
   "source": [
    "### APOE alleles distribution between clusters"
   ]
  },
  {
   "cell_type": "code",
   "execution_count": null,
   "metadata": {
    "scrolled": false
   },
   "outputs": [],
   "source": [
    "genotype_data = pd.read_csv('results/processed_variants_ADNI_WGS_v2.csv', index_col=0)\n",
    "genotype_data.drop(columns='SYMBOL', inplace=True)\n",
    "genotype_data = genotype_data.T\n",
    "\n",
    "apoe_data = genotype_data[['rs429358', 'rs7412']]\n",
    "apoe_data['APOE_alleles'] = apoe_data.apply(lambda row: utils.label_APOE_alleles(row), axis=1)\n",
    "\n",
    "apoe_data = pd.concat([apoe_data, sociodemo], axis=1, join='inner')\n",
    "apoe_data['DX_bl'].replace({'EMCI':'MCI', 'LMCI':'MCI', 'AD':'Dementia'}, inplace=True)\n",
    "\n",
    "for diag in ['MCI', 'Dementia']:\n",
    "    \n",
    "    tmp = apoe_data.loc[apoe_data['DX_bl'] == diag]\n",
    "    tmp = pd.get_dummies(tmp, columns=['APOE_alleles'], prefix=[''])\n",
    "    \n",
    "    if diag == 'MCI':\n",
    "        columns = ['_E2/E2', '_E2/E3', '_E2/E4', '_E3/E4', '_E4/E4', 'cluster_3']\n",
    "        \n",
    "    elif diag == 'Dementia':\n",
    "        columns = ['_E2/E2', '_E2/E3', '_E3/E4', '_E4/E4', 'cluster_3']\n",
    "    \n",
    "    stats_apoe = utils.stats_categorical(tmp[columns], 'cluster_3')\n",
    "    \n",
    "    print(stats_apoe[['cluster1', 'cluster2', 'cluster3', 'chstat', 'pvalue']].to_latex())\n",
    "    print()"
   ]
  },
  {
   "cell_type": "code",
   "execution_count": null,
   "metadata": {
    "scrolled": false
   },
   "outputs": [],
   "source": [
    "dataviz = age_diagnosis_clust\n",
    "order = ['MCI', 'Dementia']\n",
    "sns.set_palette('magma_r', len(order))\n",
    "\n",
    "plt.figure(figsize=(7, 7))\n",
    "sns.boxplot(data=dataviz, x='cluster_3', y='Age_Dementia', hue='DX_bl', hue_order=order,\n",
    "            showmeans=True, meanprops=meanprops)\n",
    "plt.ylabel('Age of dementia diagnosis')\n",
    "plt.xlabel('Cluster')\n",
    "plt.legend(title='Baseline diagnosis', loc='lower right')\n",
    "plt.title('Subjects whom converted to dementia')\n",
    "plt.savefig('figures/diagnosis_age.png', dpi=500)\n",
    "plt.show()"
   ]
  }
 ],
 "metadata": {
  "kernelspec": {
   "display_name": "Python 3 (ipykernel)",
   "language": "python",
   "name": "python3"
  },
  "language_info": {
   "codemirror_mode": {
    "name": "ipython",
    "version": 3
   },
   "file_extension": ".py",
   "mimetype": "text/x-python",
   "name": "python",
   "nbconvert_exporter": "python",
   "pygments_lexer": "ipython3",
   "version": "3.9.16"
  }
 },
 "nbformat": 4,
 "nbformat_minor": 2
}
